{
 "cells": [
  {
   "cell_type": "code",
   "execution_count": null,
   "id": "b91662a9",
   "metadata": {},
   "outputs": [],
   "source": [
    "from ultralytics import YOLO\n",
    "import cv2\n",
    "\n",
    "# Load trained model\n",
    "model = YOLO(\"../models/yolov8s_krisnawan_best_backup.pt\")\n",
    "\n",
    "# Open webcam (0 = default camera)\n",
    "cap = cv2.VideoCapture(0)\n",
    "\n",
    "if not cap.isOpened():\n",
    "    print(\"Error: Kamera tidak terdeteksi.\")\n",
    "    exit()\n",
    "\n",
    "while True:\n",
    "    ret, frame = cap.read()\n",
    "    if not ret:\n",
    "        break\n",
    "\n",
    "    # Jalankan prediksi pada frame\n",
    "    results = model.predict(source=frame, conf=0.1, imgsz=640, verbose=False)\n",
    "\n",
    "    # Ambil hasil dan gambar dengan kotak prediksi\n",
    "    annotated_frame = results[0].plot()\n",
    "\n",
    "    # Tampilkan hasil prediksi\n",
    "    cv2.imshow(\"Drowsiness Detection\", annotated_frame)\n",
    "\n",
    "    # Tekan 'q' untuk keluar\n",
    "    if cv2.waitKey(1) & 0xFF == ord('q'):\n",
    "        break\n",
    "\n",
    "cap.release()\n",
    "cv2.destroyAllWindows()"
   ]
  }
 ],
 "metadata": {
  "kernelspec": {
   "display_name": ".venv",
   "language": "python",
   "name": "python3"
  },
  "language_info": {
   "codemirror_mode": {
    "name": "ipython",
    "version": 3
   },
   "file_extension": ".py",
   "mimetype": "text/x-python",
   "name": "python",
   "nbconvert_exporter": "python",
   "pygments_lexer": "ipython3",
   "version": "3.12.3"
  }
 },
 "nbformat": 4,
 "nbformat_minor": 5
}
